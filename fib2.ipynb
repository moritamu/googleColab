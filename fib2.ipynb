{
  "nbformat": 4,
  "nbformat_minor": 0,
  "metadata": {
    "colab": {
      "provenance": [],
      "authorship_tag": "ABX9TyPW0x0616IaAsTSf2NH394m",
      "include_colab_link": true
    },
    "kernelspec": {
      "name": "python3",
      "display_name": "Python 3"
    },
    "language_info": {
      "name": "python"
    }
  },
  "cells": [
    {
      "cell_type": "markdown",
      "metadata": {
        "id": "view-in-github",
        "colab_type": "text"
      },
      "source": [
        "<a href=\"https://colab.research.google.com/github/moritamu/googleColab/blob/main/fib2.ipynb\" target=\"_parent\"><img src=\"https://colab.research.google.com/assets/colab-badge.svg\" alt=\"Open In Colab\"/></a>"
      ]
    },
    {
      "cell_type": "code",
      "execution_count": 4,
      "metadata": {
        "colab": {
          "base_uri": "https://localhost:8080/"
        },
        "id": "a7toCgEbG9EA",
        "outputId": "1527aa80-3d2c-4552-a545-675efe75857a"
      },
      "outputs": [
        {
          "output_type": "stream",
          "name": "stdout",
          "text": [
            "第0項\t 0\n",
            "第1項\t 1\n",
            "第2項\t 1\n",
            "第3項\t 2\n",
            "第4項\t 3\n",
            "第5項\t 5\n",
            "第6項\t 8\n",
            "第7項\t 13\n",
            "第8項\t 21\n",
            "第9項\t 34\n",
            "第10項\t 55\n",
            "\n"
          ]
        }
      ],
      "source": [
        "def fib(n):#フィボナッチ数列\n",
        "  a,b=0,1\n",
        "  for t in range(0,n+1):#rangeはnの前まで\n",
        "    print(f'第{t}項\\t {a}')#フォーマットを指定するf\n",
        "    a,b=b,a+b\n",
        "  print()\n",
        "fib(10)"
      ]
    },
    {
      "cell_type": "code",
      "source": [],
      "metadata": {
        "id": "x5OTDe9QIUxG"
      },
      "execution_count": null,
      "outputs": []
    }
  ]
}