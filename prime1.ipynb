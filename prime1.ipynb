{
  "nbformat": 4,
  "nbformat_minor": 0,
  "metadata": {
    "colab": {
      "provenance": [],
      "authorship_tag": "ABX9TyMyQ0caoXYlm6rC7aDSiCnJ",
      "include_colab_link": true
    },
    "kernelspec": {
      "name": "python3",
      "display_name": "Python 3"
    },
    "language_info": {
      "name": "python"
    }
  },
  "cells": [
    {
      "cell_type": "markdown",
      "metadata": {
        "id": "view-in-github",
        "colab_type": "text"
      },
      "source": [
        "<a href=\"https://colab.research.google.com/github/moritamu/googleColab/blob/main/prime1.ipynb\" target=\"_parent\"><img src=\"https://colab.research.google.com/assets/colab-badge.svg\" alt=\"Open In Colab\"/></a>"
      ]
    },
    {
      "cell_type": "code",
      "execution_count": 6,
      "metadata": {
        "colab": {
          "base_uri": "https://localhost:8080/"
        },
        "id": "IkTszxuVPDSg",
        "outputId": "ddf655f7-ba39-40e0-d90c-38aa4c1dcddf"
      },
      "outputs": [
        {
          "output_type": "stream",
          "name": "stdout",
          "text": [
            "素数判定したい3以上の整数ｎを入れてください。n=13\n",
            "13は素数です\n"
          ]
        }
      ],
      "source": [
        "n=int(input('素数判定したい3以上の整数ｎを入れてください。n='))\n",
        "for k in range(2,n):\n",
        "  if n % k ==0:\n",
        "    print(f'{n}は{k}を約数に持つので素数ではありません')\n",
        "    break\n",
        "else:#IF文の中でのELSEでなくて、For文の中のELSE\n",
        "  print(f'{n}は素数です')"
      ]
    }
  ]
}